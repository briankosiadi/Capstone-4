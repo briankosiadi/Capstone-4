{
  "nbformat": 4,
  "nbformat_minor": 0,
  "metadata": {
    "colab": {
      "name": "Lung Cancer Neural Networks Part 2.ipynb",
      "provenance": [],
      "collapsed_sections": [],
      "mount_file_id": "11bAo7_kgsaAuk530wqFeP6XTcozQFYcy",
      "authorship_tag": "ABX9TyMhKjODxR4dv5sjuq6XMRN2",
      "include_colab_link": true
    },
    "kernelspec": {
      "name": "python3",
      "display_name": "Python 3"
    },
    "accelerator": "GPU"
  },
  "cells": [
    {
      "cell_type": "markdown",
      "metadata": {
        "id": "view-in-github",
        "colab_type": "text"
      },
      "source": [
        "<a href=\"https://colab.research.google.com/github/briankosiadi/Capstone-4/blob/master/Lung_Cancer_Neural_Networks_Part_2.ipynb\" target=\"_parent\"><img src=\"https://colab.research.google.com/assets/colab-badge.svg\" alt=\"Open In Colab\"/></a>"
      ]
    },
    {
      "cell_type": "markdown",
      "metadata": {
        "id": "ErpEqXDRHS7S",
        "colab_type": "text"
      },
      "source": [
        "This is a continuation from the previous notebook, the first several cells consists of imports and data mounting."
      ]
    },
    {
      "cell_type": "code",
      "metadata": {
        "id": "EZe_5RAuWw1z",
        "colab_type": "code",
        "outputId": "026443ee-646e-49cb-b2ec-6519a4711dc0",
        "colab": {
          "base_uri": "https://localhost:8080/",
          "height": 90
        }
      },
      "source": [
        "try: \n",
        "  %tensorflow_version 2.x\n",
        "except Exception:\n",
        "  pass\n",
        "import tensorflow as tf\n",
        "\n",
        "print(\"Version: \", tf.version)\n",
        "print(\"Eager mode: \", tf.executing_eagerly())\n",
        "print(\"GPU is\", \"available\" if tf.config.experimental.list_physical_devices(\"GPU\") else \"NOT AVAILABLE\")"
      ],
      "execution_count": 0,
      "outputs": [
        {
          "output_type": "stream",
          "text": [
            "TensorFlow 2.x selected.\n",
            "Version:  <module 'tensorflow_core._api.v2.version' from '/tensorflow-2.1.0/python3.6/tensorflow_core/_api/v2/version/__init__.py'>\n",
            "Eager mode:  True\n",
            "GPU is available\n"
          ],
          "name": "stdout"
        }
      ]
    },
    {
      "cell_type": "code",
      "metadata": {
        "id": "jhlBaoreR8ZA",
        "colab_type": "code",
        "outputId": "99fdf463-8198-4671-96de-a5ee3a6e913c",
        "colab": {
          "base_uri": "https://localhost:8080/",
          "height": 128
        }
      },
      "source": [
        "from google.colab import drive\n",
        "drive.mount('/content/drive')"
      ],
      "execution_count": 0,
      "outputs": [
        {
          "output_type": "stream",
          "text": [
            "Go to this URL in a browser: https://accounts.google.com/o/oauth2/auth?client_id=947318989803-6bn6qk8qdgf4n4g3pfee6491hc0brc4i.apps.googleusercontent.com&redirect_uri=urn%3aietf%3awg%3aoauth%3a2.0%3aoob&response_type=code&scope=email%20https%3a%2f%2fwww.googleapis.com%2fauth%2fdocs.test%20https%3a%2f%2fwww.googleapis.com%2fauth%2fdrive%20https%3a%2f%2fwww.googleapis.com%2fauth%2fdrive.photos.readonly%20https%3a%2f%2fwww.googleapis.com%2fauth%2fpeopleapi.readonly\n",
            "\n",
            "Enter your authorization code:\n",
            "··········\n",
            "Mounted at /content/drive\n"
          ],
          "name": "stdout"
        }
      ]
    },
    {
      "cell_type": "code",
      "metadata": {
        "id": "jEdwInSOShzY",
        "colab_type": "code",
        "colab": {}
      },
      "source": [
        "import pandas as pd\n",
        "import numpy as np\n",
        "import os\n",
        "import cv2\n",
        "import glob\n",
        "import shutil\n",
        "from tensorflow.keras import optimizers\n",
        "from tensorflow.keras import backend as K\n",
        "from tensorflow.keras.preprocessing.image import ImageDataGenerator, img_to_array\n",
        "from tensorflow.keras.models import Sequential, Model\n",
        "from tensorflow.keras.layers import Conv2D, MaxPooling2D, Activation, Dropout, Flatten, Dense, BatchNormalization, LayerNormalization\n",
        "from sklearn.model_selection import cross_val_score\n",
        "import matplotlib.pyplot as plt\n",
        "import autokeras as ak\n",
        "from tensorflow.keras.models import load_model\n",
        "import warnings\n",
        "warnings.filterwarnings(\"ignore\")"
      ],
      "execution_count": 0,
      "outputs": []
    },
    {
      "cell_type": "code",
      "metadata": {
        "id": "DosFyl3oSdWi",
        "colab_type": "code",
        "colab": {}
      },
      "source": [
        "train_data_dir = '/content/drive/My Drive/Thinkful Datasets/final_images/train/'\n",
        "test_data_dir = '/content/drive/My Drive/Thinkful Datasets/final_images/test/'"
      ],
      "execution_count": 0,
      "outputs": []
    },
    {
      "cell_type": "code",
      "metadata": {
        "id": "wFg9C1QUSey6",
        "colab_type": "code",
        "colab": {}
      },
      "source": [
        "img_width, img_height = 250, 250\n",
        "batch_size = 40\n",
        "\n",
        "if K.image_data_format() == 'channels_first':\n",
        "    input_shape = (3, img_width, img_height)\n",
        "else:\n",
        "    input_shape = (img_width, img_height, 3)"
      ],
      "execution_count": 0,
      "outputs": []
    },
    {
      "cell_type": "code",
      "metadata": {
        "id": "EE4qo7BvSfLP",
        "colab_type": "code",
        "colab": {}
      },
      "source": [
        "train_datagen = ImageDataGenerator(\n",
        "    rescale=1. / 255,\n",
        "    shear_range=0.3,\n",
        "    zoom_range=.1,\n",
        "    horizontal_flip=True)\n",
        "\n",
        "test_datagen = ImageDataGenerator(rescale=1. / 255,)"
      ],
      "execution_count": 0,
      "outputs": []
    },
    {
      "cell_type": "code",
      "metadata": {
        "id": "kyUVhfZeTBT6",
        "colab_type": "code",
        "outputId": "fd3df4e7-f113-4d20-818f-1b9e5e12500c",
        "colab": {
          "base_uri": "https://localhost:8080/",
          "height": 54
        }
      },
      "source": [
        "train_generator = train_datagen.flow_from_directory(\n",
        "    train_data_dir,\n",
        "    target_size=(img_width, img_height),\n",
        "    batch_size=batch_size,\n",
        "    class_mode='binary')\n",
        "\n",
        "validation_generator = test_datagen.flow_from_directory(\n",
        "    test_data_dir,\n",
        "    target_size=(img_width, img_height),\n",
        "    batch_size=batch_size,\n",
        "    #shuffle=False,\n",
        "    class_mode='binary')"
      ],
      "execution_count": 0,
      "outputs": [
        {
          "output_type": "stream",
          "text": [
            "Found 616 images belonging to 2 classes.\n",
            "Found 264 images belonging to 2 classes.\n"
          ],
          "name": "stdout"
        }
      ]
    },
    {
      "cell_type": "code",
      "metadata": {
        "id": "ETae2V6BcVse",
        "colab_type": "code",
        "outputId": "5395c5b7-9630-4579-d700-2a6251357865",
        "colab": {
          "base_uri": "https://localhost:8080/",
          "height": 35
        }
      },
      "source": [
        "train_len = (len(glob.glob('/content/drive/My Drive/Thinkful Datasets/final_images/train/positives/*.png'))\n",
        "  +len(glob.glob('/content/drive/My Drive/Thinkful Datasets/final_images/train/negatives/*.png')))\n",
        "print(train_len)"
      ],
      "execution_count": 0,
      "outputs": [
        {
          "output_type": "stream",
          "text": [
            "616\n"
          ],
          "name": "stdout"
        }
      ]
    },
    {
      "cell_type": "code",
      "metadata": {
        "id": "2GVRJWyg6wyf",
        "colab_type": "code",
        "outputId": "c1684aa7-0369-4577-e84e-d1ca4bd612e2",
        "colab": {
          "base_uri": "https://localhost:8080/",
          "height": 35
        }
      },
      "source": [
        "test_len = (len(glob.glob('/content/drive/My Drive/Thinkful Datasets/final_images/test/positives/*.png'))\n",
        "  +len(glob.glob('/content/drive/My Drive/Thinkful Datasets/final_images/test/negatives/*.png')))\n",
        "print(test_len)"
      ],
      "execution_count": 0,
      "outputs": [
        {
          "output_type": "stream",
          "text": [
            "264\n"
          ],
          "name": "stdout"
        }
      ]
    },
    {
      "cell_type": "markdown",
      "metadata": {
        "id": "6hBRXycxHRuy",
        "colab_type": "text"
      },
      "source": [
        "<h2>\n",
        "4. Model Evaluation\n",
        "</h2>"
      ]
    },
    {
      "cell_type": "markdown",
      "metadata": {
        "id": "KH3yjxMkHbtZ",
        "colab_type": "text"
      },
      "source": [
        "I saved my model to drive and load it here. I also try using the autokeras model but it clearly isn't performing as well as it should be."
      ]
    },
    {
      "cell_type": "code",
      "metadata": {
        "id": "5ddgcuGLSpoy",
        "colab_type": "code",
        "outputId": "624d8c02-299a-4116-d049-3ddee5751362",
        "colab": {
          "base_uri": "https://localhost:8080/",
          "height": 310
        }
      },
      "source": [
        "model = load_model('/content/drive/My Drive/Capstone 4/best_model.h5')"
      ],
      "execution_count": 0,
      "outputs": [
        {
          "output_type": "stream",
          "text": [
            "WARNING:tensorflow:From /usr/local/lib/python3.6/dist-packages/tensorflow_core/python/ops/init_ops.py:97: calling Zeros.__init__ (from tensorflow.python.ops.init_ops) with dtype is deprecated and will be removed in a future version.\n",
            "Instructions for updating:\n",
            "Call initializer instance with the dtype argument instead of passing it to the constructor\n",
            "WARNING:tensorflow:From /usr/local/lib/python3.6/dist-packages/tensorflow_core/python/ops/init_ops.py:97: calling Ones.__init__ (from tensorflow.python.ops.init_ops) with dtype is deprecated and will be removed in a future version.\n",
            "Instructions for updating:\n",
            "Call initializer instance with the dtype argument instead of passing it to the constructor\n",
            "WARNING:tensorflow:From /usr/local/lib/python3.6/dist-packages/tensorflow_core/python/ops/init_ops.py:97: calling GlorotUniform.__init__ (from tensorflow.python.ops.init_ops) with dtype is deprecated and will be removed in a future version.\n",
            "Instructions for updating:\n",
            "Call initializer instance with the dtype argument instead of passing it to the constructor\n",
            "WARNING:tensorflow:From /usr/local/lib/python3.6/dist-packages/tensorflow_core/python/ops/resource_variable_ops.py:1630: calling BaseResourceVariable.__init__ (from tensorflow.python.ops.resource_variable_ops) with constraint is deprecated and will be removed in a future version.\n",
            "Instructions for updating:\n",
            "If using Keras pass *_constraint arguments to layers.\n",
            "WARNING:tensorflow:From /usr/local/lib/python3.6/dist-packages/tensorflow_core/python/ops/nn_impl.py:183: where (from tensorflow.python.ops.array_ops) is deprecated and will be removed in a future version.\n",
            "Instructions for updating:\n",
            "Use tf.where in 2.0, which has the same broadcast rule as np.where\n"
          ],
          "name": "stdout"
        }
      ]
    },
    {
      "cell_type": "code",
      "metadata": {
        "id": "R8HmY-5mS4GH",
        "colab_type": "code",
        "outputId": "a0179f24-fd6a-4226-c8e2-7170a253616a",
        "colab": {
          "base_uri": "https://localhost:8080/",
          "height": 708
        }
      },
      "source": [
        "model.summary()"
      ],
      "execution_count": 0,
      "outputs": [
        {
          "output_type": "stream",
          "text": [
            "Model: \"model\"\n",
            "_________________________________________________________________\n",
            "Layer (type)                 Output Shape              Param #   \n",
            "=================================================================\n",
            "input_1 (InputLayer)         [(None, 250, 250, 3)]     0         \n",
            "_________________________________________________________________\n",
            "batch_normalization (BatchNo (None, 250, 250, 3)       12        \n",
            "_________________________________________________________________\n",
            "conv2d (Conv2D)              (None, 244, 244, 32)      4736      \n",
            "_________________________________________________________________\n",
            "conv2d_1 (Conv2D)            (None, 242, 242, 16)      4624      \n",
            "_________________________________________________________________\n",
            "max_pooling2d (MaxPooling2D) (None, 121, 121, 16)      0         \n",
            "_________________________________________________________________\n",
            "conv2d_2 (Conv2D)            (None, 119, 119, 16)      2320      \n",
            "_________________________________________________________________\n",
            "conv2d_3 (Conv2D)            (None, 117, 117, 8)       1160      \n",
            "_________________________________________________________________\n",
            "max_pooling2d_1 (MaxPooling2 (None, 58, 58, 8)         0         \n",
            "_________________________________________________________________\n",
            "conv2d_4 (Conv2D)            (None, 56, 56, 16)        1168      \n",
            "_________________________________________________________________\n",
            "conv2d_5 (Conv2D)            (None, 54, 54, 32)        4640      \n",
            "_________________________________________________________________\n",
            "max_pooling2d_2 (MaxPooling2 (None, 27, 27, 32)        0         \n",
            "_________________________________________________________________\n",
            "global_average_pooling2d (Gl (None, 32)                0         \n",
            "_________________________________________________________________\n",
            "dropout (Dropout)            (None, 32)                0         \n",
            "_________________________________________________________________\n",
            "flatten (Flatten)            (None, 32)                0         \n",
            "_________________________________________________________________\n",
            "dense (Dense)                (None, 1)                 33        \n",
            "=================================================================\n",
            "Total params: 18,693\n",
            "Trainable params: 18,687\n",
            "Non-trainable params: 6\n",
            "_________________________________________________________________\n"
          ],
          "name": "stdout"
        }
      ]
    },
    {
      "cell_type": "code",
      "metadata": {
        "id": "Z31QoX51SFRn",
        "colab_type": "code",
        "colab": {}
      },
      "source": [
        "auto_model = load_model('/content/drive/My Drive/Capstone 4/best_model.h5')"
      ],
      "execution_count": 0,
      "outputs": []
    },
    {
      "cell_type": "code",
      "metadata": {
        "id": "wx4XiZCBSq8N",
        "colab_type": "code",
        "outputId": "aecf4b84-59d8-44da-8124-347f94084004",
        "colab": {
          "base_uri": "https://localhost:8080/",
          "height": 92
        }
      },
      "source": [
        "model.compile(optimizer='adam', loss='binary_crossentropy', metrics=['accuracy'])"
      ],
      "execution_count": 0,
      "outputs": [
        {
          "output_type": "stream",
          "text": [
            "WARNING:tensorflow:From /usr/local/lib/python3.6/dist-packages/tensorflow_core/python/ops/nn_impl.py:183: where (from tensorflow.python.ops.array_ops) is deprecated and will be removed in a future version.\n",
            "Instructions for updating:\n",
            "Use tf.where in 2.0, which has the same broadcast rule as np.where\n"
          ],
          "name": "stdout"
        }
      ]
    },
    {
      "cell_type": "code",
      "metadata": {
        "id": "3xLM5k6QS0x6",
        "colab_type": "code",
        "outputId": "2c22918e-c30a-4240-959f-e68c26dfd3d1",
        "colab": {
          "base_uri": "https://localhost:8080/",
          "height": 1000
        }
      },
      "source": [
        "history = model.fit(\n",
        "    train_generator,\n",
        "    steps_per_epoch = 15,\n",
        "    epochs=25,\n",
        "    validation_data = validation_generator,\n",
        "    validation_steps = 5)"
      ],
      "execution_count": 0,
      "outputs": [
        {
          "output_type": "stream",
          "text": [
            "Epoch 1/25\n",
            "14/15 [===========================>..] - ETA: 24s - loss: 0.6753 - acc: 0.5840Epoch 1/25\n",
            "15/15 [==============================] - 488s 33s/step - loss: 0.6755 - acc: 0.5816 - val_loss: 0.7002 - val_acc: 0.5100\n",
            "Epoch 2/25\n",
            "14/15 [===========================>..] - ETA: 1s - loss: 0.6640 - acc: 0.6213Epoch 1/25\n",
            "15/15 [==============================] - 22s 1s/step - loss: 0.6627 - acc: 0.6285 - val_loss: 0.7040 - val_acc: 0.5100\n",
            "Epoch 3/25\n",
            "14/15 [===========================>..] - ETA: 1s - loss: 0.6783 - acc: 0.5914Epoch 1/25\n",
            "15/15 [==============================] - 20s 1s/step - loss: 0.6739 - acc: 0.5990 - val_loss: 0.7281 - val_acc: 0.5100\n",
            "Epoch 4/25\n",
            "14/15 [===========================>..] - ETA: 0s - loss: 0.6428 - acc: 0.6287Epoch 1/25\n",
            "15/15 [==============================] - 20s 1s/step - loss: 0.6480 - acc: 0.6250 - val_loss: 0.7030 - val_acc: 0.5100\n",
            "Epoch 5/25\n",
            "14/15 [===========================>..] - ETA: 1s - loss: 0.6699 - acc: 0.6143Epoch 1/25\n",
            "15/15 [==============================] - 20s 1s/step - loss: 0.6689 - acc: 0.6150 - val_loss: 0.6987 - val_acc: 0.5100\n",
            "Epoch 6/25\n",
            "14/15 [===========================>..] - ETA: 0s - loss: 0.6699 - acc: 0.6230Epoch 1/25\n",
            "15/15 [==============================] - 19s 1s/step - loss: 0.6682 - acc: 0.6268 - val_loss: 0.6912 - val_acc: 0.5100\n",
            "Epoch 7/25\n",
            "14/15 [===========================>..] - ETA: 0s - loss: 0.6741 - acc: 0.6269Epoch 1/25\n",
            "15/15 [==============================] - 20s 1s/step - loss: 0.6719 - acc: 0.6319 - val_loss: 0.6897 - val_acc: 0.5100\n",
            "Epoch 8/25\n",
            "14/15 [===========================>..] - ETA: 1s - loss: 0.6538 - acc: 0.6500Epoch 1/25\n",
            "15/15 [==============================] - 21s 1s/step - loss: 0.6549 - acc: 0.6450 - val_loss: 0.6930 - val_acc: 0.5150\n",
            "Epoch 9/25\n",
            "14/15 [===========================>..] - ETA: 1s - loss: 0.6707 - acc: 0.6231Epoch 1/25\n",
            "15/15 [==============================] - 20s 1s/step - loss: 0.6710 - acc: 0.6181 - val_loss: 0.6946 - val_acc: 0.5200\n",
            "Epoch 10/25\n",
            "14/15 [===========================>..] - ETA: 0s - loss: 0.6782 - acc: 0.6211Epoch 1/25\n",
            "15/15 [==============================] - 19s 1s/step - loss: 0.6736 - acc: 0.6250 - val_loss: 0.6868 - val_acc: 0.5350\n",
            "Epoch 11/25\n",
            "14/15 [===========================>..] - ETA: 1s - loss: 0.6543 - acc: 0.6321Epoch 1/25\n",
            "15/15 [==============================] - 21s 1s/step - loss: 0.6588 - acc: 0.6217 - val_loss: 0.6852 - val_acc: 0.5350\n",
            "Epoch 12/25\n",
            "14/15 [===========================>..] - ETA: 0s - loss: 0.6567 - acc: 0.6399Epoch 1/25\n",
            "15/15 [==============================] - 20s 1s/step - loss: 0.6596 - acc: 0.6354 - val_loss: 0.6838 - val_acc: 0.5200\n",
            "Epoch 13/25\n",
            "14/15 [===========================>..] - ETA: 0s - loss: 0.6621 - acc: 0.6175Epoch 1/25\n",
            "15/15 [==============================] - 20s 1s/step - loss: 0.6558 - acc: 0.6337 - val_loss: 0.6832 - val_acc: 0.5200\n",
            "Epoch 14/25\n",
            "14/15 [===========================>..] - ETA: 0s - loss: 0.6619 - acc: 0.6175Epoch 1/25\n",
            "15/15 [==============================] - 19s 1s/step - loss: 0.6599 - acc: 0.6196 - val_loss: 0.6846 - val_acc: 0.5450\n",
            "Epoch 15/25\n",
            "14/15 [===========================>..] - ETA: 1s - loss: 0.6602 - acc: 0.6393Epoch 1/25\n",
            "15/15 [==============================] - 21s 1s/step - loss: 0.6559 - acc: 0.6417 - val_loss: 0.6833 - val_acc: 0.5250\n",
            "Epoch 16/25\n",
            "14/15 [===========================>..] - ETA: 0s - loss: 0.6800 - acc: 0.6007Epoch 1/25\n",
            "15/15 [==============================] - 20s 1s/step - loss: 0.6797 - acc: 0.5972 - val_loss: 0.6848 - val_acc: 0.5400\n",
            "Epoch 17/25\n",
            "14/15 [===========================>..] - ETA: 0s - loss: 0.6597 - acc: 0.6231Epoch 1/25\n",
            "15/15 [==============================] - 19s 1s/step - loss: 0.6607 - acc: 0.6250 - val_loss: 0.6898 - val_acc: 0.5300\n",
            "Epoch 18/25\n",
            "14/15 [===========================>..] - ETA: 1s - loss: 0.6935 - acc: 0.6026Epoch 1/25\n",
            "15/15 [==============================] - 21s 1s/step - loss: 0.6904 - acc: 0.6076 - val_loss: 0.6844 - val_acc: 0.5300\n",
            "Epoch 19/25\n",
            "14/15 [===========================>..] - ETA: 1s - loss: 0.6721 - acc: 0.6306Epoch 1/25\n",
            "15/15 [==============================] - 20s 1s/step - loss: 0.6729 - acc: 0.6250 - val_loss: 0.6854 - val_acc: 0.5550\n",
            "Epoch 20/25\n",
            "14/15 [===========================>..] - ETA: 0s - loss: 0.6563 - acc: 0.6269Epoch 1/25\n",
            "15/15 [==============================] - 19s 1s/step - loss: 0.6551 - acc: 0.6267 - val_loss: 0.6878 - val_acc: 0.5500\n",
            "Epoch 21/25\n",
            "14/15 [===========================>..] - ETA: 1s - loss: 0.6675 - acc: 0.6036Epoch 1/25\n",
            "15/15 [==============================] - 20s 1s/step - loss: 0.6645 - acc: 0.6083 - val_loss: 0.6844 - val_acc: 0.5350\n",
            "Epoch 22/25\n",
            "14/15 [===========================>..] - ETA: 0s - loss: 0.6589 - acc: 0.6250Epoch 1/25\n",
            "15/15 [==============================] - 19s 1s/step - loss: 0.6606 - acc: 0.6214 - val_loss: 0.6879 - val_acc: 0.5400\n",
            "Epoch 23/25\n",
            "14/15 [===========================>..] - ETA: 0s - loss: 0.6611 - acc: 0.6455Epoch 1/25\n",
            "15/15 [==============================] - 20s 1s/step - loss: 0.6586 - acc: 0.6493 - val_loss: 0.6873 - val_acc: 0.5450\n",
            "Epoch 24/25\n",
            "14/15 [===========================>..] - ETA: 0s - loss: 0.6510 - acc: 0.6362Epoch 1/25\n",
            "15/15 [==============================] - 20s 1s/step - loss: 0.6560 - acc: 0.6337 - val_loss: 0.6947 - val_acc: 0.5550\n",
            "Epoch 25/25\n",
            "14/15 [===========================>..] - ETA: 1s - loss: 0.6697 - acc: 0.6304Epoch 1/25\n",
            "15/15 [==============================] - 20s 1s/step - loss: 0.6690 - acc: 0.6300 - val_loss: 0.6877 - val_acc: 0.5400\n"
          ],
          "name": "stdout"
        }
      ]
    },
    {
      "cell_type": "code",
      "metadata": {
        "id": "AY406CpWSSOe",
        "colab_type": "code",
        "colab": {}
      },
      "source": [
        "auto_model.compile(optimizer='adam', loss='binary_crossentropy', metrics=['accuracy'])"
      ],
      "execution_count": 0,
      "outputs": []
    },
    {
      "cell_type": "code",
      "metadata": {
        "id": "G4Xkg2qgSYVz",
        "colab_type": "code",
        "outputId": "34aee89f-2eef-4819-d237-e2a71b3481bd",
        "colab": {
          "base_uri": "https://localhost:8080/",
          "height": 1000
        }
      },
      "source": [
        "auto_history = auto_model.fit(\n",
        "    train_generator,\n",
        "    steps_per_epoch = 15,\n",
        "    epochs=25,\n",
        "    validation_data = validation_generator,\n",
        "    validation_steps = 5)"
      ],
      "execution_count": 0,
      "outputs": [
        {
          "output_type": "stream",
          "text": [
            "WARNING:tensorflow:sample_weight modes were coerced from\n",
            "  ...\n",
            "    to  \n",
            "  ['...']\n",
            "WARNING:tensorflow:sample_weight modes were coerced from\n",
            "  ...\n",
            "    to  \n",
            "  ['...']\n",
            "Train for 15 steps, validate for 5 steps\n",
            "Epoch 1/25\n",
            "15/15 [==============================] - 518s 35s/step - loss: 0.6691 - accuracy: 0.6059 - val_loss: 0.7173 - val_accuracy: 0.5200\n",
            "Epoch 2/25\n",
            "15/15 [==============================] - 33s 2s/step - loss: 0.6595 - accuracy: 0.6285 - val_loss: 0.6940 - val_accuracy: 0.5200\n",
            "Epoch 3/25\n",
            "15/15 [==============================] - 21s 1s/step - loss: 0.6595 - accuracy: 0.6372 - val_loss: 0.7063 - val_accuracy: 0.5150\n",
            "Epoch 4/25\n",
            "15/15 [==============================] - 20s 1s/step - loss: 0.6606 - accuracy: 0.6094 - val_loss: 0.6992 - val_accuracy: 0.5150\n",
            "Epoch 5/25\n",
            "15/15 [==============================] - 20s 1s/step - loss: 0.6653 - accuracy: 0.6267 - val_loss: 0.6917 - val_accuracy: 0.5300\n",
            "Epoch 6/25\n",
            "15/15 [==============================] - 21s 1s/step - loss: 0.6610 - accuracy: 0.6319 - val_loss: 0.7409 - val_accuracy: 0.5250\n",
            "Epoch 7/25\n",
            "15/15 [==============================] - 21s 1s/step - loss: 0.6620 - accuracy: 0.6250 - val_loss: 0.7065 - val_accuracy: 0.5200\n",
            "Epoch 8/25\n",
            "15/15 [==============================] - 21s 1s/step - loss: 0.6620 - accuracy: 0.6267 - val_loss: 0.6907 - val_accuracy: 0.5350\n",
            "Epoch 9/25\n",
            "15/15 [==============================] - 21s 1s/step - loss: 0.6554 - accuracy: 0.6493 - val_loss: 0.7193 - val_accuracy: 0.4900\n",
            "Epoch 10/25\n",
            "15/15 [==============================] - 21s 1s/step - loss: 0.6689 - accuracy: 0.5885 - val_loss: 0.6936 - val_accuracy: 0.5200\n",
            "Epoch 11/25\n",
            "15/15 [==============================] - 21s 1s/step - loss: 0.6677 - accuracy: 0.6215 - val_loss: 0.7079 - val_accuracy: 0.5050\n",
            "Epoch 12/25\n",
            "15/15 [==============================] - 21s 1s/step - loss: 0.6547 - accuracy: 0.6250 - val_loss: 0.7362 - val_accuracy: 0.5250\n",
            "Epoch 13/25\n",
            "15/15 [==============================] - 21s 1s/step - loss: 0.6589 - accuracy: 0.6337 - val_loss: 0.7143 - val_accuracy: 0.5050\n",
            "Epoch 14/25\n",
            "15/15 [==============================] - 21s 1s/step - loss: 0.6609 - accuracy: 0.6302 - val_loss: 0.7217 - val_accuracy: 0.5050\n",
            "Epoch 15/25\n",
            "15/15 [==============================] - 21s 1s/step - loss: 0.6616 - accuracy: 0.6146 - val_loss: 0.7001 - val_accuracy: 0.5250\n",
            "Epoch 16/25\n",
            "15/15 [==============================] - 20s 1s/step - loss: 0.6658 - accuracy: 0.6215 - val_loss: 0.7121 - val_accuracy: 0.5250\n",
            "Epoch 17/25\n",
            "15/15 [==============================] - 21s 1s/step - loss: 0.6500 - accuracy: 0.6545 - val_loss: 0.7272 - val_accuracy: 0.5050\n",
            "Epoch 18/25\n",
            "15/15 [==============================] - 21s 1s/step - loss: 0.6545 - accuracy: 0.6302 - val_loss: 0.7314 - val_accuracy: 0.5200\n",
            "Epoch 19/25\n",
            "15/15 [==============================] - 20s 1s/step - loss: 0.6577 - accuracy: 0.6181 - val_loss: 0.6955 - val_accuracy: 0.5200\n",
            "Epoch 20/25\n",
            "15/15 [==============================] - 21s 1s/step - loss: 0.6728 - accuracy: 0.5868 - val_loss: 0.6919 - val_accuracy: 0.5300\n",
            "Epoch 21/25\n",
            "15/15 [==============================] - 21s 1s/step - loss: 0.6598 - accuracy: 0.6319 - val_loss: 0.7063 - val_accuracy: 0.5000\n",
            "Epoch 22/25\n",
            "15/15 [==============================] - 21s 1s/step - loss: 0.6573 - accuracy: 0.6300 - val_loss: 0.7039 - val_accuracy: 0.5150\n",
            "Epoch 23/25\n",
            "15/15 [==============================] - 21s 1s/step - loss: 0.6567 - accuracy: 0.6163 - val_loss: 0.7085 - val_accuracy: 0.5100\n",
            "Epoch 24/25\n",
            "15/15 [==============================] - 21s 1s/step - loss: 0.6616 - accuracy: 0.6267 - val_loss: 0.6955 - val_accuracy: 0.5100\n",
            "Epoch 25/25\n",
            "15/15 [==============================] - 21s 1s/step - loss: 0.6613 - accuracy: 0.6250 - val_loss: 0.7269 - val_accuracy: 0.5050\n"
          ],
          "name": "stdout"
        }
      ]
    },
    {
      "cell_type": "code",
      "metadata": {
        "id": "fPTuGAQB_v6L",
        "colab_type": "code",
        "outputId": "01f677dd-4f99-4098-8017-2012d266659f",
        "colab": {
          "base_uri": "https://localhost:8080/",
          "height": 126
        }
      },
      "source": [
        "model.evaluate(validation_generator)"
      ],
      "execution_count": 0,
      "outputs": [
        {
          "output_type": "stream",
          "text": [
            "WARNING:tensorflow:sample_weight modes were coerced from\n",
            "  ...\n",
            "    to  \n",
            "  ['...']\n",
            "7/7 [==============================] - 4s 608ms/step - loss: 0.7180 - accuracy: 0.5530\n"
          ],
          "name": "stdout"
        },
        {
          "output_type": "execute_result",
          "data": {
            "text/plain": [
              "[0.7179664373397827, 0.5530303]"
            ]
          },
          "metadata": {
            "tags": []
          },
          "execution_count": 25
        }
      ]
    },
    {
      "cell_type": "code",
      "metadata": {
        "id": "ja4wTwgpsxVv",
        "colab_type": "code",
        "outputId": "91bed106-3e11-4dc3-fa57-6c09d80ddafb",
        "colab": {
          "base_uri": "https://localhost:8080/",
          "height": 126
        }
      },
      "source": [
        "model.evaluate(train_generator)"
      ],
      "execution_count": 0,
      "outputs": [
        {
          "output_type": "stream",
          "text": [
            "WARNING:tensorflow:sample_weight modes were coerced from\n",
            "  ...\n",
            "    to  \n",
            "  ['...']\n",
            "16/16 [==============================] - 17s 1s/step - loss: 0.6559 - accuracy: 0.6429\n"
          ],
          "name": "stdout"
        },
        {
          "output_type": "execute_result",
          "data": {
            "text/plain": [
              "[0.6559196971356869, 0.64285713]"
            ]
          },
          "metadata": {
            "tags": []
          },
          "execution_count": 26
        }
      ]
    },
    {
      "cell_type": "code",
      "metadata": {
        "id": "tWmvV96MXGBC",
        "colab_type": "code",
        "outputId": "c47e32c0-2902-4eac-f3ce-03e3bf925d50",
        "colab": {
          "base_uri": "https://localhost:8080/",
          "height": 126
        }
      },
      "source": [
        "auto_model.evaluate(validation_generator)"
      ],
      "execution_count": 0,
      "outputs": [
        {
          "output_type": "stream",
          "text": [
            "WARNING:tensorflow:sample_weight modes were coerced from\n",
            "  ...\n",
            "    to  \n",
            "  ['...']\n",
            "7/7 [==============================] - 4s 618ms/step - loss: 0.7099 - accuracy: 0.5341\n"
          ],
          "name": "stdout"
        },
        {
          "output_type": "execute_result",
          "data": {
            "text/plain": [
              "[0.7099084683826992, 0.53409094]"
            ]
          },
          "metadata": {
            "tags": []
          },
          "execution_count": 14
        }
      ]
    },
    {
      "cell_type": "code",
      "metadata": {
        "id": "p1Xx_qlCXHvk",
        "colab_type": "code",
        "outputId": "8d78c01b-898f-498f-8576-69a026a6cf20",
        "colab": {
          "base_uri": "https://localhost:8080/",
          "height": 126
        }
      },
      "source": [
        "auto_model.evaluate(train_generator)"
      ],
      "execution_count": 0,
      "outputs": [
        {
          "output_type": "stream",
          "text": [
            "WARNING:tensorflow:sample_weight modes were coerced from\n",
            "  ...\n",
            "    to  \n",
            "  ['...']\n",
            "16/16 [==============================] - 17s 1s/step - loss: 0.6471 - accuracy: 0.6461\n"
          ],
          "name": "stdout"
        },
        {
          "output_type": "execute_result",
          "data": {
            "text/plain": [
              "[0.6471056267619133, 0.6461039]"
            ]
          },
          "metadata": {
            "tags": []
          },
          "execution_count": 15
        }
      ]
    },
    {
      "cell_type": "code",
      "metadata": {
        "id": "TO_5yHaxQBOU",
        "colab_type": "code",
        "colab": {}
      },
      "source": [
        "history.history"
      ],
      "execution_count": 0,
      "outputs": []
    },
    {
      "cell_type": "code",
      "metadata": {
        "id": "f3cXaKLrQMzb",
        "colab_type": "code",
        "outputId": "d7a1c985-baa9-41ed-d30e-d29df479b1f8",
        "colab": {
          "base_uri": "https://localhost:8080/",
          "height": 283
        }
      },
      "source": [
        "plt.plot(history.history['accuracy'])\n",
        "plt.plot(history.history['val_accuracy'])\n",
        "labels = ('train accuracy', 'validation accuracy')\n",
        "plt.legend(labels)"
      ],
      "execution_count": 0,
      "outputs": [
        {
          "output_type": "execute_result",
          "data": {
            "text/plain": [
              "<matplotlib.legend.Legend at 0x7ff256184b38>"
            ]
          },
          "metadata": {
            "tags": []
          },
          "execution_count": 37
        },
        {
          "output_type": "display_data",
          "data": {
            "image/png": "[encoded data removed]",
            "text/plain": [
              "<Figure size 432x288 with 1 Axes>"
            ]
          },
          "metadata": {
            "tags": []
          }
        }
      ]
    },
    {
      "cell_type": "code",
      "metadata": {
        "id": "lJqhuIknQavk",
        "colab_type": "code",
        "outputId": "b7791533-7df1-405e-bcfa-dba4a747b5bf",
        "colab": {
          "base_uri": "https://localhost:8080/",
          "height": 283
        }
      },
      "source": [
        "plt.plot(history.history['loss'])\n",
        "plt.plot(history.history['val_loss'])\n",
        "labels = ('train loss', 'validation loss')\n",
        "plt.legend(labels)"
      ],
      "execution_count": 0,
      "outputs": [
        {
          "output_type": "execute_result",
          "data": {
            "text/plain": [
              "<matplotlib.legend.Legend at 0x7ff252683ac8>"
            ]
          },
          "metadata": {
            "tags": []
          },
          "execution_count": 38
        },
        {
          "output_type": "display_data",
          "data": {
            "image/png": "[encoded data removed]",
            "text/plain": [
              "<Figure size 432x288 with 1 Axes>"
            ]
          },
          "metadata": {
            "tags": []
          }
        }
      ]
    },
    {
      "cell_type": "code",
      "metadata": {
        "id": "u1ssNel8XgiH",
        "colab_type": "code",
        "outputId": "b4204785-e71d-4572-fd4a-b5e452f56014",
        "colab": {
          "base_uri": "https://localhost:8080/",
          "height": 283
        }
      },
      "source": [
        "plt.plot(auto_history.history['accuracy'])\n",
        "plt.plot(auto_history.history['val_accuracy'])\n",
        "labels = ('train accuracy', 'validation accuracy')\n",
        "plt.legend(labels)"
      ],
      "execution_count": 0,
      "outputs": [
        {
          "output_type": "execute_result",
          "data": {
            "text/plain": [
              "<matplotlib.legend.Legend at 0x7f837c45e748>"
            ]
          },
          "metadata": {
            "tags": []
          },
          "execution_count": 16
        },
        {
          "output_type": "display_data",
          "data": {
            "image/png": "[encoded data removed]",
            "text/plain": [
              "<Figure size 432x288 with 1 Axes>"
            ]
          },
          "metadata": {
            "tags": []
          }
        }
      ]
    },
    {
      "cell_type": "code",
      "metadata": {
        "id": "DmOAt1xtXnO3",
        "colab_type": "code",
        "outputId": "8cbac8a4-ebe5-4f36-c927-b8b2d4cec0fc",
        "colab": {
          "base_uri": "https://localhost:8080/",
          "height": 283
        }
      },
      "source": [
        "plt.plot(auto_history.history['loss'])\n",
        "plt.plot(auto_history.history['val_loss'])\n",
        "labels = ('train loss', 'validation loss')\n",
        "plt.legend(labels)"
      ],
      "execution_count": 0,
      "outputs": [
        {
          "output_type": "execute_result",
          "data": {
            "text/plain": [
              "<matplotlib.legend.Legend at 0x7f837bf3bcc0>"
            ]
          },
          "metadata": {
            "tags": []
          },
          "execution_count": 17
        },
        {
          "output_type": "display_data",
          "data": {
            "image/png": "[encoded data removed]",
            "text/plain": [
              "<Figure size 432x288 with 1 Axes>"
            ]
          },
          "metadata": {
            "tags": []
          }
        }
      ]
    },
    {
      "cell_type": "markdown",
      "metadata": {
        "id": "jPI8DFvPhgZd",
        "colab_type": "text"
      },
      "source": [
        "As we can see, my custom model was able to have up to 55% accuracy on validation data, which while isn't as great as I hoped for, is still better than 50%. Autokeras' model still isn't reaching the 70% validation accuracy that it was supposed to hit, which I will continue to look into."
      ]
    },
    {
      "cell_type": "markdown",
      "metadata": {
        "id": "mYwnHahA2_qh",
        "colab_type": "text"
      },
      "source": [
        "<h2>\n",
        "5. Model Interaction\n",
        "</h2>"
      ]
    },
    {
      "cell_type": "markdown",
      "metadata": {
        "id": "uqDtzO4IhvXe",
        "colab_type": "text"
      },
      "source": [
        "For practicality, I create a function that allows the user to upload a chest radiograph image that the function displays and also returns a prediction of diagnosis."
      ]
    },
    {
      "cell_type": "code",
      "metadata": {
        "id": "Iy9QGIoV21FP",
        "colab_type": "code",
        "colab": {}
      },
      "source": [
        "from google.colab import files\n",
        "from IPython.display import Image\n",
        "from google.colab.patches import cv2_imshow"
      ],
      "execution_count": 0,
      "outputs": []
    },
    {
      "cell_type": "code",
      "metadata": {
        "id": "phXyCrKv1Hnp",
        "colab_type": "code",
        "outputId": "39a53939-2f1f-47b0-dad1-a27f6b248f35",
        "colab": {
          "base_uri": "https://localhost:8080/",
          "height": 54
        }
      },
      "source": [
        "import os\n",
        "!ls\n",
        "os.getcwd()"
      ],
      "execution_count": 0,
      "outputs": [
        {
          "output_type": "stream",
          "text": [
            "'positive_example (1).png'   sample_data\n"
          ],
          "name": "stdout"
        },
        {
          "output_type": "execute_result",
          "data": {
            "text/plain": [
              "'/content'"
            ]
          },
          "metadata": {
            "tags": []
          },
          "execution_count": 9
        }
      ]
    },
    {
      "cell_type": "code",
      "metadata": {
        "id": "HPDpfBAk3I6-",
        "colab_type": "code",
        "colab": {}
      },
      "source": [
        "def predict_image():\n",
        "  uploaded = files.upload()\n",
        "  full_path = \"/content/\" + list(uploaded.keys())[0]\n",
        "  image = cv2.imread(full_path)\n",
        "  image = cv2.resize(image, (250, 250))\n",
        "  img_array = np.expand_dims(image, axis=0)\n",
        "  if model.predict(img_array)[0][0] >= .5:\n",
        "    print('Positive')\n",
        "  else:\n",
        "    print('Negative')\n",
        "  cv2_imshow(image)\n",
        "  os.system(f'rm {full_path}')"
      ],
      "execution_count": 0,
      "outputs": []
    },
    {
      "cell_type": "code",
      "metadata": {
        "id": "k4DlYJ4HE64_",
        "colab_type": "code",
        "outputId": "ecf3d1d6-a55a-4259-eb1f-e9665d190283",
        "colab": {
          "resources": {
            "http://localhost:8080/nbextensions/google.colab/files.js": {
              "data": "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",
              "ok": true,
              "headers": [
                [
                  "content-type",
                  "application/javascript"
                ]
              ],
              "status": 200,
              "status_text": ""
            }
          },
          "base_uri": "https://localhost:8080/",
          "height": 343
        }
      },
      "source": [
        "predict_image"
      ],
      "execution_count": 0,
      "outputs": [
        {
          "output_type": "display_data",
          "data": {
            "text/html": [
              "\n",
              "     <input type=\"file\" id=\"files-4a1b7c45-f103-42c4-b49c-7bc83fcaeb32\" name=\"files[]\" multiple disabled />\n",
              "     <output id=\"result-4a1b7c45-f103-42c4-b49c-7bc83fcaeb32\">\n",
              "      Upload widget is only available when the cell has been executed in the\n",
              "      current browser session. Please rerun this cell to enable.\n",
              "      </output>\n",
              "      <script src=\"/nbextensions/google.colab/files.js\"></script> "
            ],
            "text/plain": [
              "<IPython.core.display.HTML object>"
            ]
          },
          "metadata": {
            "tags": []
          }
        },
        {
          "output_type": "stream",
          "text": [
            "Saving negative_example_2.png to negative_example_2.png\n",
            "Negative\n"
          ],
          "name": "stdout"
        },
        {
          "output_type": "display_data",
          "data": {
            "image/png": "[encoded data removed]",
            "text/plain": [
              "<PIL.Image.Image image mode=RGB size=250x250 at 0x7F6F50078B00>"
            ]
          },
          "metadata": {
            "tags": []
          }
        }
      ]
    },
    {
      "cell_type": "markdown",
      "metadata": {
        "id": "q5n3o0J6h44Q",
        "colab_type": "text"
      },
      "source": [
        "<h2>\n",
        "6. Conclusion\n",
        "</h2>"
      ]
    },
    {
      "cell_type": "markdown",
      "metadata": {
        "id": "SoulC_xZh80a",
        "colab_type": "text"
      },
      "source": [
        "Overall, this project taught me a lot about day-to-day problems that data scientists will face. I expected most of my efforts to be focused on tuning my model performance, and while I did spend a good amount of time on that, I had to deal with unexpected issues too. Working with image data took the entire first week to preprocess and load, which speaks to the computational power required to work with image data. I also ran into problems with autokeras, and had to learn how to work around that. All in all, I hope to continue to tune my model to reach even higher performance, making it even more usable in the medical field."
      ]
    }
  ]
}